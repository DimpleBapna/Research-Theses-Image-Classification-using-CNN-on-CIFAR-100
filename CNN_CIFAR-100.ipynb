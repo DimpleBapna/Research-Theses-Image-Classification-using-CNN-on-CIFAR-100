{
 "cells": [
  {
   "cell_type": "code",
   "execution_count": null,
   "metadata": {},
   "outputs": [],
   "source": [
    "import numpy as np\n",
    "import tensorflow\n",
    "from matplotlib import pyplot as plt\n",
    "from tensorflow.keras.models import Sequential, load_model\n",
    "from tensorflow.keras.layers import Conv2D, MaxPooling2D, Dense, Flatten, BatchNormalization\n",
    "from tensorflow.keras.callbacks import ReduceLROnPlateau, EarlyStopping\n",
    "from tensorflow.keras.regularizers import l2\n",
    "from tensorflow.keras.datasets import cifar100"
   ]
  },
  {
   "cell_type": "code",
   "execution_count": null,
   "metadata": {},
   "outputs": [],
   "source": [
    "(trainX, trainY), (testX, testY) = cifar100.load_data()"
   ]
  },
  {
   "cell_type": "code",
   "execution_count": null,
   "metadata": {},
   "outputs": [],
   "source": [
    "# Target classes: numbers to text\n",
    "# Source: https://github.com/keras-team/keras/issues/2653#issuecomment-450133996\n",
    "classes = [\n",
    "  'apple',\n",
    "  'aquarium_fish',\n",
    "  'baby',\n",
    "  'bear',\n",
    "  'beaver',\n",
    "  'bed',\n",
    "  'bee',\n",
    "  'beetle',\n",
    "  'bicycle',\n",
    "  'bottle',\n",
    "  'bowl',\n",
    "  'boy',\n",
    "  'bridge',\n",
    "  'bus',\n",
    "  'butterfly',\n",
    "  'camel',\n",
    "  'can',\n",
    "  'castle',\n",
    "  'caterpillar',\n",
    "  'cattle',\n",
    "  'chair',\n",
    "  'chimpanzee',\n",
    "  'clock',\n",
    "  'cloud',\n",
    "  'cockroach',\n",
    "  'couch',\n",
    "  'crab',\n",
    "  'crocodile',\n",
    "  'cup',\n",
    "  'dinosaur',\n",
    "  'dolphin',\n",
    "  'elephant',\n",
    "  'flatfish',\n",
    "  'forest',\n",
    "  'fox',\n",
    "  'girl',\n",
    "  'hamster',\n",
    "  'house',\n",
    "  'kangaroo',\n",
    "  'computer_keyboard',\n",
    "  'lamp',\n",
    "  'lawn_mower',\n",
    "  'leopard',\n",
    "  'lion',\n",
    "  'lizard',\n",
    "  'lobster',\n",
    "  'man',\n",
    "  'maple_tree',\n",
    "  'motorcycle',\n",
    "  'mountain',\n",
    "  'mouse',\n",
    "  'mushroom',\n",
    "  'oak_tree',\n",
    "  'orange',\n",
    "  'orchid',\n",
    "  'otter',\n",
    "  'palm_tree',\n",
    "  'pear',\n",
    "  'pickup_truck',\n",
    "  'pine_tree',\n",
    "  'plain',\n",
    "  'plate',\n",
    "  'poppy',\n",
    "  'porcupine',\n",
    "  'possum',\n",
    "  'rabbit',\n",
    "  'raccoon',\n",
    "  'ray',\n",
    "  'road',\n",
    "  'rocket',\n",
    "  'rose',\n",
    "  'sea',\n",
    "  'seal',\n",
    "  'shark',\n",
    "  'shrew',\n",
    "  'skunk',\n",
    "  'skyscraper',\n",
    "  'snail',\n",
    "  'snake',\n",
    "  'spider',\n",
    "  'squirrel',\n",
    "  'streetcar',\n",
    "  'sunflower',\n",
    "  'sweet_pepper',\n",
    "  'table',\n",
    "  'tank',\n",
    "  'telephone',\n",
    "  'television',\n",
    "  'tiger',\n",
    "  'tractor',\n",
    "  'train',\n",
    "  'trout',\n",
    "  'tulip',\n",
    "  'turtle',\n",
    "  'wardrobe',\n",
    "  'whale',\n",
    "  'willow_tree',\n",
    "  'wolf',\n",
    "  'woman',\n",
    "  'worm',\n",
    "]"
   ]
  },
  {
   "cell_type": "code",
   "execution_count": null,
   "metadata": {},
   "outputs": [],
   "source": [
    "# Visualize firt 9 images\n",
    "for i in range(9):\n",
    "    plt.subplot(330 + 1 + i)\n",
    "    image = trainX[i]\n",
    "    target = trainY[i][0]\n",
    "    plt.axis('off')\n",
    "    plt.imshow(image)\n",
    "    plt.title(f'{classes[target]}')\n",
    "plt.show()"
   ]
  },
  {
   "cell_type": "code",
   "execution_count": null,
   "metadata": {},
   "outputs": [],
   "source": [
    "trainX = trainX.reshape(trainX.shape[0], 32,32,3)\n",
    "trainY = trainY.reshape(trainY.shape[0], 1)\n",
    "testX = testX.reshape(testY.shape[0], 32, 32, 3)\n",
    "testY = testY.reshape(testY.shape[0], 1)"
   ]
  },
  {
   "cell_type": "code",
   "execution_count": null,
   "metadata": {},
   "outputs": [],
   "source": [
    "# Parse numbers as floats\n",
    "trainX = trainX.astype('float32')\n",
    "testX = testX.astype('float32')\n",
    "\n",
    "# Normalize data\n",
    "trainX = trainX / 255.0\n",
    "testX = testX / 255.0"
   ]
  },
  {
   "cell_type": "code",
   "execution_count": null,
   "metadata": {},
   "outputs": [],
   "source": [
    "model = Sequential()\n",
    "model.add(Conv2D(32, (3, 3), input_shape = (32, 32, 3), kernel_regularizer = l2(0.005), activation = 'elu'))\n",
    "model.add(BatchNormalization())\n",
    "model.add(MaxPooling2D(pool_size = (2, 2)))\n",
    "model.add(Conv2D(128, (3, 3), kernel_regularizer = l2(0.005), activation = 'elu')) \n",
    "model.add(BatchNormalization())\n",
    "model.add(MaxPooling2D(pool_size = (2, 2)))\n",
    "model.add(Conv2D(128, (3, 3), kernel_regularizer = l2(0.005), activation = 'elu')) \n",
    "model.add(BatchNormalization())\n",
    "model.add(Conv2D(256, (3, 3), kernel_regularizer = l2(0.005), activation = 'elu')) \n",
    "model.add(BatchNormalization())\n",
    "model.add(MaxPooling2D(pool_size = (2, 2)))\n",
    "model.add(Flatten())\n",
    "model.add(Dense(units = 128, activation = 'elu'))\n",
    "model.add(Dense(units = 256, activation = 'elu'))\n",
    "model.add(Dense(units = 100, activation = 'softmax'))"
   ]
  },
  {
   "cell_type": "code",
   "execution_count": null,
   "metadata": {},
   "outputs": [],
   "source": [
    "model.compile(optimizer = 'adam', loss = 'sparse_categorical_crossentropy', metrics = ['accuracy'])"
   ]
  },
  {
   "cell_type": "code",
   "execution_count": null,
   "metadata": {},
   "outputs": [],
   "source": [
    "rlrop = ReduceLROnPlateau(monitor = 'val_loss', factor = 0.1, patience = 10)"
   ]
  },
  {
   "cell_type": "code",
   "execution_count": null,
   "metadata": {},
   "outputs": [],
   "source": [
    "early_stop = EarlyStopping(monitor = 'val_loss',\n",
    "                          mode = 'min',\n",
    "                          verbose = 1,\n",
    "                          patience = 30)"
   ]
  },
  {
   "cell_type": "code",
   "execution_count": null,
   "metadata": {
    "scrolled": false
   },
   "outputs": [],
   "source": [
    "history = model.fit(trainX, trainY,\n",
    "                         steps_per_epoch = 400,\n",
    "                         epochs = 100,\n",
    "                         #verbosity = 1,\n",
    "                         validation_split = 0.2,\n",
    "                         callbacks = [rlrop, early_stop])"
   ]
  },
  {
   "cell_type": "code",
   "execution_count": null,
   "metadata": {},
   "outputs": [],
   "source": [
    "model.save('Version_Final.h5')"
   ]
  },
  {
   "cell_type": "code",
   "execution_count": null,
   "metadata": {},
   "outputs": [],
   "source": [
    "model.summary()"
   ]
  },
  {
   "cell_type": "code",
   "execution_count": null,
   "metadata": {},
   "outputs": [],
   "source": [
    "# Generate generalization metrics\n",
    "score = model.evaluate(testX, testY, verbose=0)\n",
    "print(f'Test loss: {score[0]} / Test accuracy: {score[1]}')"
   ]
  },
  {
   "cell_type": "code",
   "execution_count": null,
   "metadata": {},
   "outputs": [],
   "source": [
    "testY_pred = model.predict(testX)"
   ]
  },
  {
   "cell_type": "code",
   "execution_count": null,
   "metadata": {},
   "outputs": [],
   "source": [
    "# Visualize history\n",
    "# Plot history: Loss\n",
    "plt.plot(history.history['val_loss'], label = 'val_loss')\n",
    "plt.plot(history.history['loss'], label = 'train_loss')\n",
    "plt.title('Validation loss history')\n",
    "plt.ylabel('Loss value')\n",
    "plt.xlabel('No. epoch')\n",
    "plt.legend()\n",
    "plt.show()"
   ]
  },
  {
   "cell_type": "code",
   "execution_count": null,
   "metadata": {},
   "outputs": [],
   "source": [
    "# Plot history: Accuracy\n",
    "plt.plot(history.history['val_accuracy'], label = 'validation accuracy')\n",
    "plt.plot(history.history['accuracy'], label = 'train accuracy')\n",
    "plt.title('Validation accuracy history')\n",
    "plt.ylabel('Accuracy value (%)')\n",
    "plt.xlabel('No. epoch')\n",
    "plt.legend()\n",
    "plt.show()"
   ]
  },
  {
   "cell_type": "code",
   "execution_count": null,
   "metadata": {},
   "outputs": [],
   "source": [
    "import random\n",
    "fig=plt.figure(figsize=(10,7))\n",
    "columns = 3\n",
    "rows = 3\n",
    "# Visualize firt 9 images\n",
    "for i in range(1,10):\n",
    "    fig.add_subplot(rows, columns, i)\n",
    "    k = random.randrange(10000)\n",
    "    image = testX[k]\n",
    "    target_pred = testY_pred[k].tolist().index(testY_pred[k].max())\n",
    "    target_actual = testY[k][0]\n",
    "    plt.axis('off')\n",
    "    plt.imshow(image)\n",
    "    plt.title(classes[target_pred]+' ('+classes[target_actual]+')')\n",
    "plt.show()"
   ]
  }
 ],
 "metadata": {
  "kernelspec": {
   "display_name": "Python 3",
   "language": "python",
   "name": "python3"
  },
  "language_info": {
   "codemirror_mode": {
    "name": "ipython",
    "version": 3
   },
   "file_extension": ".py",
   "mimetype": "text/x-python",
   "name": "python",
   "nbconvert_exporter": "python",
   "pygments_lexer": "ipython3",
   "version": "3.7.4"
  }
 },
 "nbformat": 4,
 "nbformat_minor": 2
}
